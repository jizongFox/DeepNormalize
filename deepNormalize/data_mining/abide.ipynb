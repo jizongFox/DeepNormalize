{
 "cells": [
  {
   "cell_type": "code",
   "execution_count": 1,
   "metadata": {
    "collapsed": true,
    "pycharm": {
     "is_executing": false
    }
   },
   "outputs": [
    {
     "name": "stderr",
     "text": [
      "/home/pierre-luc-delisle/venv/lib/python3.7/site-packages/sklearn/externals/joblib/__init__.py:15: DeprecationWarning: sklearn.externals.joblib is deprecated in 0.21 and will be removed in 0.23. Please import this functionality directly from joblib, which can be installed with: pip install joblib. If this warning is raised when loading pickled models, you may need to re-serialize those models with scikit-learn 0.21+.\n",
      "  warnings.warn(msg, category=DeprecationWarning)\n"
     ],
     "output_type": "stream"
    }
   ],
   "source": [
    "import abc\n",
    "import logging\n",
    "import os\n",
    "import re\n",
    "from typing import Callable, List\n",
    "\n",
    "import matplotlib.pyplot as plt\n",
    "import seaborn as sns\n",
    "import nibabel as nib\n",
    "import numpy as np\n",
    "from kerosene.utils.files import extract_file_paths\n",
    "from samitorch.inputs.transformers import ToNumpyArray\n",
    "from torchvision.transforms import transforms"
   ]
  },
  {
   "cell_type": "code",
   "execution_count": 2,
   "outputs": [],
   "source": [
    "class AbstractPreProcessingPipeline(metaclass=abc.ABCMeta):\n",
    "    \"\"\"\n",
    "    Define a preprocessing pipeline.\n",
    "    \"\"\"\n",
    "\n",
    "    @staticmethod\n",
    "    def _get_image_affine(file):\n",
    "        return nib.load(file).affine\n",
    "\n",
    "    @staticmethod\n",
    "    def _get_image_header(file):\n",
    "        return nib.load(file).header\n",
    "\n",
    "    @abc.abstractmethod\n",
    "    def run(self, **kwargs):\n",
    "        \"\"\"\n",
    "        Run the preprocessing pipeline.\n",
    "        Args:\n",
    "            **kwargs: Optional keyword arguments.\n",
    "        \"\"\"\n",
    "        raise NotImplementedError"
   ],
   "metadata": {
    "collapsed": false,
    "pycharm": {
     "name": "#%%ø\n",
     "is_executing": false
    }
   }
  },
  {
   "cell_type": "code",
   "execution_count": 3,
   "outputs": [],
   "source": [
    "class ABIDEImageExtraction(AbstractPreProcessingPipeline):\n",
    "    LOGGER = logging.getLogger(\"PreProcessingPipeline\")\n",
    "\n",
    "    def __init__(self, source_dir: str):\n",
    "        self._source_dir = source_dir\n",
    "        self._transforms = transforms.Compose([ToNumpyArray()])\n",
    "\n",
    "    def run(self, sites = None):\n",
    "        source_paths = list()\n",
    "        target_paths = list()\n",
    "        images = list()\n",
    "        labels = list()\n",
    "        \n",
    "        if sites is not None:\n",
    "            dirs = [dir for dir in sorted(os.listdir(self._source_dir)) if any(substring in dir for substring in sites)]\n",
    "        else:\n",
    "            dirs = [dir for dir in sorted(os.listdir(self._source_dir))]\n",
    "        \n",
    "        for dir in sorted(dirs):\n",
    "            image_path = os.path.join(self._source_dir, dir, \"mri\", \"real_brainmask.nii.gz\")\n",
    "            label_path = os.path.join(self._source_dir, dir, \"mri\", \"aligned_labels.nii.gz\")\n",
    "            if os.path.exists(image_path):\n",
    "                source_paths.append(image_path)\n",
    "            if os.path.exists(label_path):\n",
    "                target_paths.append(label_path)\n",
    "        \n",
    "        for source_path, target_path in zip(source_paths, target_paths):\n",
    "            images.append(self._transforms(source_path))\n",
    "            labels.append(self._transforms(target_path))\n",
    "            \n",
    "        return np.array(images), np.array(labels)"
   ],
   "metadata": {
    "collapsed": false,
    "pycharm": {
     "name": "#%%\n",
     "is_executing": false
    }
   }
  },
  {
   "cell_type": "code",
   "execution_count": 4,
   "outputs": [],
   "source": [
    "ABIDE_path = \"/home/pierre-luc-delisle/ABIDE/5.1\""
   ],
   "metadata": {
    "collapsed": false,
    "pycharm": {
     "name": "#%%\n",
     "is_executing": false
    }
   }
  },
  {
   "cell_type": "code",
   "execution_count": 5,
   "outputs": [
    {
     "traceback": [
      "\u001b[0;31m---------------------------------------------------------------------------\u001b[0m",
      "\u001b[0;31mMemoryError\u001b[0m                               Traceback (most recent call last)",
      "\u001b[0;32m<ipython-input-5-8f7002c1891f>\u001b[0m in \u001b[0;36m<module>\u001b[0;34m\u001b[0m\n\u001b[1;32m     27\u001b[0m \u001b[0;32mdel\u001b[0m \u001b[0mABIDE_seg_maxmun\u001b[0m\u001b[0;34m\u001b[0m\u001b[0;34m\u001b[0m\u001b[0m\n\u001b[1;32m     28\u001b[0m \u001b[0;34m\u001b[0m\u001b[0m\n\u001b[0;32m---> 29\u001b[0;31m \u001b[0mABIDE_images_nyu\u001b[0m\u001b[0;34m,\u001b[0m \u001b[0mABIDE_seg_nyu\u001b[0m \u001b[0;34m=\u001b[0m \u001b[0mABIDEImageExtraction\u001b[0m\u001b[0;34m(\u001b[0m\u001b[0mABIDE_path\u001b[0m\u001b[0;34m)\u001b[0m\u001b[0;34m.\u001b[0m\u001b[0mrun\u001b[0m\u001b[0;34m(\u001b[0m\u001b[0msites\u001b[0m\u001b[0;34m=\u001b[0m\u001b[0;34m[\u001b[0m\u001b[0;34m\"NYU\"\u001b[0m\u001b[0;34m]\u001b[0m\u001b[0;34m)\u001b[0m\u001b[0;34m\u001b[0m\u001b[0;34m\u001b[0m\u001b[0m\n\u001b[0m\u001b[1;32m     30\u001b[0m \u001b[0max\u001b[0m \u001b[0;34m=\u001b[0m \u001b[0msns\u001b[0m\u001b[0;34m.\u001b[0m\u001b[0mdistplot\u001b[0m\u001b[0;34m(\u001b[0m\u001b[0mABIDE_images_nyu\u001b[0m\u001b[0;34m.\u001b[0m\u001b[0mflatten\u001b[0m\u001b[0;34m(\u001b[0m\u001b[0;34m)\u001b[0m\u001b[0;34m[\u001b[0m\u001b[0mnp\u001b[0m\u001b[0;34m.\u001b[0m\u001b[0mnonzero\u001b[0m\u001b[0;34m(\u001b[0m\u001b[0mABIDE_images_nyu\u001b[0m\u001b[0;34m.\u001b[0m\u001b[0mflatten\u001b[0m\u001b[0;34m(\u001b[0m\u001b[0;34m)\u001b[0m\u001b[0;34m)\u001b[0m\u001b[0;34m]\u001b[0m\u001b[0;34m,\u001b[0m \u001b[0mhist\u001b[0m\u001b[0;34m=\u001b[0m\u001b[0;32mTrue\u001b[0m\u001b[0;34m,\u001b[0m \u001b[0mnorm_hist\u001b[0m\u001b[0;34m=\u001b[0m\u001b[0;32mTrue\u001b[0m\u001b[0;34m,\u001b[0m \u001b[0mkde\u001b[0m\u001b[0;34m=\u001b[0m\u001b[0;32mTrue\u001b[0m\u001b[0;34m,\u001b[0m \u001b[0mcolor\u001b[0m\u001b[0;34m=\u001b[0m\u001b[0;34m\"cyan\"\u001b[0m\u001b[0;34m,\u001b[0m \u001b[0mlabel\u001b[0m\u001b[0;34m=\u001b[0m\u001b[0;34m\"NYU\"\u001b[0m\u001b[0;34m)\u001b[0m\u001b[0;34m\u001b[0m\u001b[0;34m\u001b[0m\u001b[0m\n\u001b[1;32m     31\u001b[0m \u001b[0;32mdel\u001b[0m \u001b[0mABIDE_images_nyu\u001b[0m\u001b[0;34m\u001b[0m\u001b[0;34m\u001b[0m\u001b[0m\n",
      "\u001b[0;32m<ipython-input-3-8b772d6afb44>\u001b[0m in \u001b[0;36mrun\u001b[0;34m(self, sites)\u001b[0m\n\u001b[1;32m     29\u001b[0m             \u001b[0mlabels\u001b[0m\u001b[0;34m.\u001b[0m\u001b[0mappend\u001b[0m\u001b[0;34m(\u001b[0m\u001b[0mself\u001b[0m\u001b[0;34m.\u001b[0m\u001b[0m_transforms\u001b[0m\u001b[0;34m(\u001b[0m\u001b[0mtarget_path\u001b[0m\u001b[0;34m)\u001b[0m\u001b[0;34m)\u001b[0m\u001b[0;34m\u001b[0m\u001b[0;34m\u001b[0m\u001b[0m\n\u001b[1;32m     30\u001b[0m \u001b[0;34m\u001b[0m\u001b[0m\n\u001b[0;32m---> 31\u001b[0;31m         \u001b[0;32mreturn\u001b[0m \u001b[0mnp\u001b[0m\u001b[0;34m.\u001b[0m\u001b[0marray\u001b[0m\u001b[0;34m(\u001b[0m\u001b[0mimages\u001b[0m\u001b[0;34m)\u001b[0m\u001b[0;34m,\u001b[0m \u001b[0mnp\u001b[0m\u001b[0;34m.\u001b[0m\u001b[0marray\u001b[0m\u001b[0;34m(\u001b[0m\u001b[0mlabels\u001b[0m\u001b[0;34m)\u001b[0m\u001b[0;34m\u001b[0m\u001b[0;34m\u001b[0m\u001b[0m\n\u001b[0m\u001b[1;32m     32\u001b[0m \u001b[0;34m\u001b[0m\u001b[0m\n",
      "\u001b[0;31mMemoryError\u001b[0m: Unable to allocate array with shape (184, 1, 211, 212, 189) and data type float64"
     ],
     "ename": "MemoryError",
     "evalue": "Unable to allocate array with shape (184, 1, 211, 212, 189) and data type float64",
     "output_type": "error"
    },
    {
     "data": {
      "text/plain": "<Figure size 720x720 with 1 Axes>",
      "image/png": "[encoded data removed]"
     },
     "metadata": {},
     "output_type": "display_data"
    }
   ],
   "source": [
    "sns.set(font_scale=1.5)\n",
    "sns.set_style(\"whitegrid\", {'axes.grid' : False})\n",
    "plt.subplots(figsize=(10,10))\n",
    "ABIDE_images_stanford, ABIDE_seg_stanford = ABIDEImageExtraction(ABIDE_path).run(sites=[\"Stanford\"])\n",
    "sns.distplot(ABIDE_images_stanford.flatten()[np.nonzero(ABIDE_images_stanford.flatten())], hist=True, norm_hist=True, kde=True, color=\"black\", label=\"Stanford\", axlabel=\"Intensities\").set_title(\"Dataset histogram\")\n",
    "del ABIDE_images_stanford\n",
    "del ABIDE_seg_stanford\n",
    "\n",
    "ABIDE_images_cmu, ABIDE_seg_cmu = ABIDEImageExtraction(ABIDE_path).run(sites=[\"CMU\"])\n",
    "ax = sns.distplot(ABIDE_images_cmu.flatten()[np.nonzero(ABIDE_images_cmu.flatten())], hist=True, norm_hist=True, kde=True, color=\"red\", label=\"CMU\")\n",
    "del ABIDE_images_cmu\n",
    "del ABIDE_seg_cmu\n",
    "\n",
    "ABIDE_images_kki, ABIDE_seg_kki = ABIDEImageExtraction(ABIDE_path).run(sites=[\"KKI\"])\n",
    "ax = sns.distplot(ABIDE_images_kki.flatten()[np.nonzero(ABIDE_images_kki.flatten())], hist=True, norm_hist=True, kde=True, color=\"green\", label=\"KKI\")\n",
    "del ABIDE_images_kki\n",
    "del ABIDE_seg_kki\n",
    "\n",
    "ABIDE_images_caltech, ABIDE_seg_caltech = ABIDEImageExtraction(ABIDE_path).run(sites=[\"Caltech\"])\n",
    "ax = sns.distplot(ABIDE_images_caltech.flatten()[np.nonzero(ABIDE_images_caltech.flatten())], hist=True, norm_hist=True, kde=True, color=\"blue\", label=\"Caltech\")\n",
    "del ABIDE_images_caltech\n",
    "del ABIDE_seg_caltech\n",
    "\n",
    "ABIDE_images_maxmun, ABIDE_seg_maxmun = ABIDEImageExtraction(ABIDE_path).run(sites=[\"MaxMun\"])\n",
    "ax = sns.distplot(ABIDE_images_maxmun.flatten()[np.nonzero(ABIDE_images_maxmun.flatten())], hist=True, norm_hist=True, kde=True, color=\"yellow\", label=\"MaxMun\")\n",
    "del ABIDE_images_maxmun\n",
    "del ABIDE_seg_maxmun\n",
    "\n",
    "ABIDE_images_nyu, ABIDE_seg_nyu = ABIDEImageExtraction(ABIDE_path).run(sites=[\"NYU\"])\n",
    "ax = sns.distplot(ABIDE_images_nyu.flatten()[np.nonzero(ABIDE_images_nyu.flatten())], hist=True, norm_hist=True, kde=True, color=\"cyan\", label=\"NYU\")\n",
    "del ABIDE_images_nyu\n",
    "del ABIDE_seg_nyu\n",
    "\n",
    "plt.legend()\n",
    "plt.show()\n",
    "fig = ax.get_figure()\n",
    "fig.savefig(\"Intensities_ABIDE_10x10.png\")"
   ],
   "metadata": {
    "collapsed": false,
    "pycharm": {
     "name": "#%%\n",
     "is_executing": false
    }
   }
  },
  {
   "cell_type": "code",
   "execution_count": null,
   "outputs": [],
   "source": [
    "plt.subplots(figsize=(10,10))\n",
    "sns.distplot(ABIDE_images_stanford[np.where(ABIDE_seg_stanford==1)], hist=True, norm_hist=True, kde=True, color=\"b\", label=\"CSF\",  axlabel=\"Intensities\").set_title(\"Class overlap in iSEG\")\n",
    "sns.distplot(ABIDE_images_stanford[np.where(ABIDE_seg_stanford==2)], hist=True, norm_hist=True, kde=True, color=\"g\", label=\"Gray Matter\")\n",
    "ax = sns.distplot(ABIDE_images_stanford[np.where(ABIDE_seg_stanford==3)], hist=True, norm_hist=True, kde=True, color=\"r\", label=\"White Matter\")\n",
    "plt.legend()\n",
    "plt.show()\n",
    "fig = ax.get_figure()\n",
    "fig.savefig(\"Overlap iSEG_10x10.png\")"
   ],
   "metadata": {
    "collapsed": false,
    "pycharm": {
     "name": "#%%\n",
     "is_executing": false
    }
   }
  },
  {
   "cell_type": "code",
   "execution_count": null,
   "outputs": [],
   "source": [
    "plt.subplots(figsize=(10,10))\n",
    "sns.distplot(mrbrains_images[np.where(mrbrains_seg==1)], hist=True, norm_hist=True, kde=True, color=\"b\", label=\"CSF\")\n",
    "sns.distplot(mrbrains_images[np.where(mrbrains_seg==2)], hist=True, norm_hist=True, kde=True, color=\"g\", label=\"Gray Matter\")\n",
    "ax = sns.distplot(mrbrains_images[np.where(mrbrains_seg==3)], hist=True, norm_hist=True, kde=True, color=\"r\", label=\"White Matter\")\n",
    "plt.legend()\n",
    "plt.show()\n",
    "fig = ax.get_figure()\n",
    "fig.savefig(\"Overlap MRBrainS_10x10.png\")"
   ],
   "metadata": {
    "collapsed": false,
    "pycharm": {
     "name": "#%%\n",
     "is_executing": false
    }
   }
  },
  {
   "cell_type": "code",
   "execution_count": null,
   "outputs": [],
   "source": [
    "width = 0.35  # the width of the bars\n",
    "labels = [\"CSF\", \"Gray Matter\", \"White Matter\"]\n",
    "x = np.arange(len(labels))  # the label locations\n",
    "fig, ax = plt.subplots()\n",
    "\n",
    "total_mrbrains = np.unique(mrbrains_seg, return_counts=True)[1][1:4].sum()\n",
    "total_iseg = np.unique(iseg_seg, return_counts=True)[1][1:4].sum()\n",
    "rects1 = ax.bar(x-width/2, np.unique(mrbrains_seg, return_counts=True)[1][1:4]/total_mrbrains, width, label=\"MRBrainS\", color='b')\n",
    "rects2 = ax.bar(x+width/2, np.unique(iseg_seg, return_counts=True)[1][1:4]/total_iseg, width, label=\"iSEG\", color='r')\n",
    "ax.set_ylabel('Voxel count (%)')\n",
    "ax.set_title('Voxel count per class')\n",
    "ax.set_xticks(x)\n",
    "ax.set_xticklabels(labels)\n",
    "ax.legend()\n",
    "fig.tight_layout()\n",
    "plt.show()\n",
    "fig.savefig(\"Voxel count.png\")"
   ],
   "metadata": {
    "collapsed": false,
    "pycharm": {
     "name": "#%%\n",
     "is_executing": false
    }
   }
  },
  {
   "cell_type": "code",
   "execution_count": null,
   "outputs": [],
   "source": [
    "plt.subplots(figsize=(10,10))\n",
    "sns.distplot(mrbrains_images[np.where(mrbrains_seg==1)], hist=True, norm_hist=True, kde=True, color=\"b\", label=\"CSF MRBrainS\")\n",
    "ax = sns.distplot(iseg_images[np.where(iseg_seg==1)], hist=True, norm_hist=True, kde=True, color=\"r\", label=\"CSF iSEG\")\n",
    "\n",
    "plt.legend()\n",
    "plt.show()\n",
    "fig = ax.get_figure()\n",
    "fig.savefig(\"Overlap class1_10x10.png\")"
   ],
   "metadata": {
    "collapsed": false,
    "pycharm": {
     "name": "#%%\n",
     "is_executing": false
    }
   }
  },
  {
   "cell_type": "code",
   "execution_count": null,
   "outputs": [],
   "source": [
    "plt.subplots(figsize=(10,10))\n",
    "sns.distplot(mrbrains_images[np.where(mrbrains_seg==2)], hist=True, norm_hist=True, kde=True, color=\"b\", label=\"GM MRBrainS\")\n",
    "ax = sns.distplot(iseg_images[np.where(iseg_seg==2)], hist=True, norm_hist=True, kde=True, color=\"r\", label=\"GM iSEG\")\n",
    "\n",
    "plt.legend()\n",
    "plt.show()\n",
    "fig = ax.get_figure()\n",
    "fig.savefig(\"Overlap class2_10x10.png\")"
   ],
   "metadata": {
    "collapsed": false,
    "pycharm": {
     "name": "#%%\n",
     "is_executing": false
    }
   }
  },
  {
   "cell_type": "code",
   "execution_count": null,
   "outputs": [],
   "source": [
    "plt.subplots(figsize=(10,10))\n",
    "sns.distplot(mrbrains_images[np.where(mrbrains_seg==3)], hist=True, norm_hist=True, kde=True, color=\"b\", label=\"WM MRBrainS\")\n",
    "ax = sns.distplot(iseg_images[np.where(iseg_seg==3)], hist=True, norm_hist=True, kde=True, color=\"r\", label=\"WM iSEG\")\n",
    "plt.legend()\n",
    "plt.show()\n",
    "fig = ax.get_figure()\n",
    "fig.savefig(\"Overlap class3_10x10.png\")"
   ],
   "metadata": {
    "collapsed": false,
    "pycharm": {
     "name": "#%%\n",
     "is_executing": false
    }
   }
  },
  {
   "cell_type": "code",
   "execution_count": null,
   "outputs": [],
   "source": [
    "red_1 = sns.color_palette(\"RdBu\", n_colors=8)[0]\n",
    "red_2 = sns.color_palette(\"RdBu\", n_colors=8)[2]\n",
    "blue_1 = sns.color_palette(\"RdBu\", n_colors=8)[7]\n",
    "blue_2 = sns.color_palette(\"RdBu\", n_colors=8)[5]\n",
    "green_1 = sns.color_palette(\"Greens_r\", n_colors=8)[0]\n",
    "green_2 = sns.color_palette(\"Greens_r\", n_colors=8)[4]"
   ],
   "metadata": {
    "collapsed": false,
    "pycharm": {
     "name": "#%%\n",
     "is_executing": false
    }
   }
  },
  {
   "cell_type": "code",
   "execution_count": null,
   "outputs": [],
   "source": [
    "plt.subplots(figsize=(10,10))\n",
    "sns.color_palette(\"muted\")\n",
    "sns.distplot(mrbrains_images[np.where(mrbrains_seg==1)], hist=True, norm_hist=True, kde=True, color=blue_1, label=\"CSF MRBrainS\")\n",
    "sns.distplot(iseg_images[np.where(iseg_seg==1)], hist=True, norm_hist=True, kde=True, color=blue_2, label=\"CSF iSEG\")\n",
    "sns.distplot(mrbrains_images[np.where(mrbrains_seg==2)], hist=True, norm_hist=True, color=red_1, kde=True, label=\"GM MRBrainS\")\n",
    "sns.distplot(iseg_images[np.where(iseg_seg==2)], hist=True, norm_hist=True, kde=True,  color=red_2, label=\"GM iSEG\")\n",
    "sns.distplot(mrbrains_images[np.where(mrbrains_seg==3)], hist=True, norm_hist=True, kde=True, color=green_1, label=\"WM MRBrainS\")\n",
    "ax = sns.distplot(iseg_images[np.where(iseg_seg==3)], hist=True, norm_hist=True, kde=True, color=green_2, label=\"WM iSEG\")\n",
    "\n",
    "plt.legend()\n",
    "plt.show()\n",
    "fig = ax.get_figure()\n",
    "fig.savefig(\"Overlap all_10x10.png\")"
   ],
   "metadata": {
    "collapsed": false,
    "pycharm": {
     "name": "#%%\n",
     "is_executing": false
    }
   }
  },
  {
   "cell_type": "code",
   "execution_count": null,
   "outputs": [],
   "source": [
    "f, axes = plt.subplots(1, 3, figsize=(15,5), sharex=True)\n",
    "\n",
    "sns.distplot(mrbrains_images.flatten()[np.nonzero(mrbrains_images.flatten())], hist=True, norm_hist=True, kde=True, color=\"b\", label=\"MRBrainS\", axlabel=\"Intensities\", ax=axes[0]).set_title(\"Dataset histogram\")\n",
    "sns.distplot(iseg_images.flatten()[np.nonzero(iseg_images.flatten())], hist=True, norm_hist=True, kde=True, color=\"r\", label=\"iSEG\", ax=axes[0])\n",
    "\n",
    "sns.distplot(iseg_images[np.where(iseg_seg==1)], hist=True, norm_hist=True, kde=True, color=\"b\", label=\"CSF\",  axlabel=\"Intensities\", ax=axes[1]).set_title(\"Class overlap in iSEG\")\n",
    "sns.distplot(iseg_images[np.where(iseg_seg==2)], hist=True, norm_hist=True, kde=True, color=\"g\", label=\"Gray Matter\", ax=axes[1])\n",
    "sns.distplot(iseg_images[np.where(iseg_seg==3)], hist=True, norm_hist=True, kde=True, color=\"r\", label=\"White Matter\", ax=axes[1])\n",
    "\n",
    "sns.distplot(mrbrains_images[np.where(mrbrains_seg==1)], hist=True, norm_hist=True, kde=True, color=\"b\", label=\"CSF\", axlabel=\"Intensities\", ax=axes[2]).set_title(\"Class overlap in MRBrainS\")\n",
    "sns.distplot(mrbrains_images[np.where(mrbrains_seg==2)], hist=True, norm_hist=True, kde=True, color=\"g\", label=\"Gray Matter\", ax=axes[2])\n",
    "sns.distplot(mrbrains_images[np.where(mrbrains_seg==3)], hist=True, norm_hist=True, kde=True, color=\"r\", label=\"White Matter\", ax=axes[2])\n",
    "\n",
    "plt.legend()\n",
    "\n",
    "plt.setp(axes, yticks=[])\n",
    "plt.tight_layout()\n",
    "plt.show()"
   ],
   "metadata": {
    "collapsed": false,
    "pycharm": {
     "name": "#%%\n",
     "is_executing": false
    }
   }
  },
  {
   "cell_type": "code",
   "execution_count": null,
   "outputs": [],
   "source": [
    "nb_voxels_class_0 = np.count_nonzero(iseg_images[np.where(iseg_seg==0)]) + np.count_nonzero(mrbrains_images[np.where(mrbrains_seg==0)])\n",
    "nb_voxels_class_1 = np.count_nonzero(iseg_images[np.where(iseg_seg==1)]) + np.count_nonzero(mrbrains_images[np.where(mrbrains_seg==1)])\n",
    "nb_voxels_class_2 = np.count_nonzero(iseg_images[np.where(iseg_seg==2)]) + np.count_nonzero(mrbrains_images[np.where(mrbrains_seg==2)])\n",
    "nb_voxels_class_3 = np.count_nonzero(iseg_images[np.where(iseg_seg==3)]) + np.count_nonzero(mrbrains_images[np.where(mrbrains_seg==3)])\n",
    "\n",
    "print(nb_voxels_class_1)\n",
    "total = nb_voxels_class_0 + nb_voxels_class_1 + nb_voxels_class_2 + nb_voxels_class_3\n",
    "\n",
    "weights = [nb_voxels_class_0/total, nb_voxels_class_1 / total, nb_voxels_class_2 / total, nb_voxels_class_3 / total]\n",
    "print(weights)\n",
    "print(weights[0] + weights[1] + weights[2])\n",
    "total = nb_voxels_class_1 + nb_voxels_class_2 + nb_voxels_class_3\n",
    "weights = [nb_voxels_class_1 / total, nb_voxels_class_2 / total, nb_voxels_class_3 / total]\n",
    "print(weights)"
   ],
   "metadata": {
    "collapsed": false,
    "pycharm": {
     "name": "#%%\n",
     "is_executing": false
    }
   }
  },
  {
   "cell_type": "code",
   "execution_count": null,
   "outputs": [],
   "source": [
    "\n"
   ],
   "metadata": {
    "collapsed": false,
    "pycharm": {
     "name": "#%%\n",
     "is_executing": false
    }
   }
  }
 ],
 "metadata": {
  "kernelspec": {
   "display_name": "Python 3",
   "language": "python",
   "name": "python3"
  },
  "language_info": {
   "codemirror_mode": {
    "name": "ipython",
    "version": 2
   },
   "file_extension": ".py",
   "mimetype": "text/x-python",
   "name": "python",
   "nbconvert_exporter": "python",
   "pygments_lexer": "ipython2",
   "version": "2.7.6"
  },
  "pycharm": {
   "stem_cell": {
    "cell_type": "raw",
    "source": [],
    "metadata": {
     "collapsed": false
    }
   }
  }
 },
 "nbformat": 4,
 "nbformat_minor": 0
}